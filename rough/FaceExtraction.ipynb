{
  "cells": [
    {
      "cell_type": "code",
      "execution_count": 7,
      "metadata": {
        "colab": {
          "base_uri": "https://localhost:8080/"
        },
        "id": "HiMaASBWiLiZ",
        "outputId": "6c868757-23a8-4f81-f01b-d089dd3bf5db"
      },
      "outputs": [
        {
          "name": "stderr",
          "output_type": "stream",
          "text": [
            "Cloning into 'detectron2'...\n"
          ]
        }
      ],
      "source": [
        "!git clone https://github.com/facebookresearch/detectron2.git"
      ]
    },
    {
      "cell_type": "code",
      "execution_count": 8,
      "metadata": {
        "colab": {
          "base_uri": "https://localhost:8080/"
        },
        "id": "TejqzN_JaR_B",
        "outputId": "c4351844-1e13-4e8c-a663-0d35ef5ba233"
      },
      "outputs": [
        {
          "name": "stdout",
          "output_type": "stream",
          "text": [
            "2.2.2+cpu False\n"
          ]
        },
        {
          "name": "stderr",
          "output_type": "stream",
          "text": [
            "'gcc' is not recognized as an internal or external command,\n",
            "operable program or batch file.\n"
          ]
        }
      ],
      "source": [
        "import torch, torchvision\n",
        "print(torch.__version__, torch.cuda.is_available())\n",
        "!gcc --version"
      ]
    },
    {
      "cell_type": "code",
      "execution_count": null,
      "metadata": {},
      "outputs": [],
      "source": [
        "!git clone https://github.com/facebookresearch/detectron2.git\n",
        "import os\n",
        "%pwd\n",
        "os.chdir('C:\\\\Users\\\\DELL\\\\OneDrive\\\\Desktop\\\\MachineLearning\\\\face-extraction')\n",
        "cd detectron2\n",
        "import detectron2\n",
        "from detectron2.engine import DefaultTrainer\n",
        "from detectron2.config import get_cfg\n",
        "import detectron2\n",
        "from detectron2.utils.logger import setup_logger\n",
        "setup_logger()\n",
        "\n",
        "# import some common libraries\n",
        "import numpy as np\n",
        "import os, json, cv2, random\n",
        "#from google.colab.patches import cv2_imshow\n",
        "\n",
        "# import some common detectron2 utilities\n",
        "from detectron2 import model_zoo\n",
        "from detectron2.engine import DefaultPredictor\n",
        "from detectron2.config import get_cfg\n",
        "from detectron2.utils.visualizer import Visualizer\n",
        "from detectron2.data import MetadataCatalog, DatasetCatalog\n",
        "from detectron2.structures import BoxMode"
      ]
    },
    {
      "cell_type": "code",
      "execution_count": 1,
      "metadata": {},
      "outputs": [],
      "source": [
        "import os"
      ]
    },
    {
      "cell_type": "code",
      "execution_count": 2,
      "metadata": {},
      "outputs": [
        {
          "data": {
            "text/plain": [
              "'c:\\\\Users\\\\DELL\\\\OneDrive\\\\Desktop\\\\MachineLearning\\\\face-extraction\\\\rough'"
            ]
          },
          "execution_count": 2,
          "metadata": {},
          "output_type": "execute_result"
        }
      ],
      "source": [
        "%pwd"
      ]
    },
    {
      "cell_type": "code",
      "execution_count": 3,
      "metadata": {},
      "outputs": [],
      "source": [
        "os.chdir('C:\\\\Users\\\\DELL\\\\OneDrive\\\\Desktop\\\\MachineLearning\\\\face-extraction')"
      ]
    },
    {
      "cell_type": "code",
      "execution_count": 10,
      "metadata": {
        "colab": {
          "base_uri": "https://localhost:8080/"
        },
        "id": "kNgYBPuAj2K6",
        "outputId": "2831543b-fc82-4ec3-a7df-3add9cc6c36b"
      },
      "outputs": [
        {
          "name": "stdout",
          "output_type": "stream",
          "text": [
            "C:\\Users\\DELL\\OneDrive\\Desktop\\MachineLearning\\face-extraction\\detectron2\\detectron2\\detectron2\n"
          ]
        }
      ],
      "source": [
        "cd detectron2"
      ]
    },
    {
      "cell_type": "markdown",
      "metadata": {
        "colab": {
          "base_uri": "https://localhost:8080/",
          "height": 1000
        },
        "id": "zSP9oquyj6IL",
        "outputId": "0f6bea1d-972f-4353-ac6b-ff48509e7107"
      },
      "source": [
        "!pip install -e ."
      ]
    },
    {
      "cell_type": "code",
      "execution_count": null,
      "metadata": {},
      "outputs": [],
      "source": [
        "!pip install 'git+https://github.com/facebookresearch/detectron2.git'"
      ]
    },
    {
      "cell_type": "code",
      "execution_count": 11,
      "metadata": {
        "id": "0sD3V5EmjQMb"
      },
      "outputs": [],
      "source": [
        "import detectron2"
      ]
    },
    {
      "cell_type": "code",
      "execution_count": 12,
      "metadata": {
        "id": "lP_xHuWskHVA"
      },
      "outputs": [],
      "source": [
        "from detectron2.engine import DefaultTrainer\n",
        "from detectron2.config import get_cfg\n",
        "import detectron2\n",
        "from detectron2.utils.logger import setup_logger\n",
        "setup_logger()\n",
        "\n",
        "# import some common libraries\n",
        "import numpy as np\n",
        "import os, json, cv2, random\n",
        "#from google.colab.patches import cv2_imshow\n",
        "\n",
        "# import some common detectron2 utilities\n",
        "from detectron2 import model_zoo\n",
        "from detectron2.engine import DefaultPredictor\n",
        "from detectron2.config import get_cfg\n",
        "from detectron2.utils.visualizer import Visualizer\n",
        "from detectron2.data import MetadataCatalog, DatasetCatalog\n",
        "from detectron2.structures import BoxMode"
      ]
    },
    {
      "cell_type": "code",
      "execution_count": 48,
      "metadata": {
        "id": "iajCpSuIZTbp"
      },
      "outputs": [],
      "source": [
        "import cv2\n",
        "\n",
        "image_path = 'C:\\\\Users\\\\DELL\\\\OneDrive\\\\Desktop\\\\MachineLearning\\\\face-extraction\\\\images\\\\output\\\\detected_face.png'\n",
        "image = cv2.imread(image_path)"
      ]
    },
    {
      "cell_type": "code",
      "execution_count": 49,
      "metadata": {},
      "outputs": [
        {
          "name": "stdout",
          "output_type": "stream",
          "text": [
            "[[[255 255 255]\n",
            "  [255 255 255]\n",
            "  [255 255 255]\n",
            "  ...\n",
            "  [255 255 255]\n",
            "  [255 255 255]\n",
            "  [255 255 255]]\n",
            "\n",
            " [[ 23  37  38]\n",
            "  [ 23  37  38]\n",
            "  [ 23  37  38]\n",
            "  ...\n",
            "  [ 29  59  33]\n",
            "  [ 26  56  30]\n",
            "  [ 24  53  27]]\n",
            "\n",
            " [[ 23  37  38]\n",
            "  [ 23  37  38]\n",
            "  [ 23  37  38]\n",
            "  ...\n",
            "  [ 29  59  33]\n",
            "  [ 29  59  33]\n",
            "  [ 28  58  32]]\n",
            "\n",
            " ...\n",
            "\n",
            " [[106  33  38]\n",
            "  [107  33  39]\n",
            "  [108  33  39]\n",
            "  ...\n",
            "  [190 150  87]\n",
            "  [190 151  88]\n",
            "  [191 151  88]]\n",
            "\n",
            " [[156 102  82]\n",
            "  [154  99  79]\n",
            "  [151  95  75]\n",
            "  ...\n",
            "  [197 158  95]\n",
            "  [197 157  94]\n",
            "  [196 157  94]]\n",
            "\n",
            " [[192 148 108]\n",
            "  [190 146 106]\n",
            "  [188 142 103]\n",
            "  ...\n",
            "  [202 162  99]\n",
            "  [200 160  97]\n",
            "  [199 160  97]]]\n"
          ]
        }
      ],
      "source": [
        "print(image)"
      ]
    },
    {
      "cell_type": "code",
      "execution_count": 50,
      "metadata": {
        "colab": {
          "base_uri": "https://localhost:8080/"
        },
        "id": "DSo1WKAhmWZT",
        "outputId": "6c15b1ee-55d7-4ae2-e86b-85f9d1d05166"
      },
      "outputs": [
        {
          "name": "stdout",
          "output_type": "stream",
          "text": [
            "\u001b[32m[07/14 18:42:19 d2.checkpoint.detection_checkpoint]: \u001b[0m[DetectionCheckpointer] Loading from https://dl.fbaipublicfiles.com/detectron2/COCO-InstanceSegmentation/mask_rcnn_R_50_FPN_3x/137849600/model_final_f10217.pkl ...\n"
          ]
        }
      ],
      "source": [
        "import torch\n",
        "\n",
        "# Configure the model\n",
        "cfg = get_cfg()\n",
        "cfg.merge_from_file(model_zoo.get_config_file(\"COCO-InstanceSegmentation/mask_rcnn_R_50_FPN_3x.yaml\"))\n",
        "cfg.MODEL.ROI_HEADS.SCORE_THRESH_TEST = 0.5  # Set threshold for this model\n",
        "cfg.MODEL.WEIGHTS = model_zoo.get_checkpoint_url(\"COCO-InstanceSegmentation/mask_rcnn_R_50_FPN_3x.yaml\")\n",
        "cfg.MODEL.DEVICE = 'cuda' if torch.cuda.is_available() else 'cpu'  # Use GPU if available\n",
        "\n",
        "# Create predictor\n",
        "predictor = DefaultPredictor(cfg)"
      ]
    },
    {
      "cell_type": "code",
      "execution_count": 51,
      "metadata": {
        "colab": {
          "base_uri": "https://localhost:8080/"
        },
        "id": "RZXgM4BfmaBY",
        "outputId": "52f80ecd-8561-4a7d-f3b5-f3a90f5c5264"
      },
      "outputs": [],
      "source": [
        "outputs = predictor(image)\n",
        "instances = outputs[\"instances\"]\n",
        "masks = instances.pred_masks.to(\"cpu\").numpy()\n",
        "classes = instances.pred_classes.to(\"cpu\").numpy()"
      ]
    },
    {
      "cell_type": "code",
      "execution_count": 52,
      "metadata": {
        "colab": {
          "base_uri": "https://localhost:8080/"
        },
        "id": "lXPHc0UJ4m6m",
        "outputId": "06cc22bc-e3e3-482f-ad21-a64e640365b7"
      },
      "outputs": [
        {
          "data": {
            "text/plain": [
              "Instances(num_instances=2, image_height=269, image_width=524, fields=[pred_boxes: Boxes(tensor([[ 89.9992,  24.3309, 410.5103, 264.3335],\n",
              "        [  0.9245,   2.5910, 239.9322, 264.1505]])), scores: tensor([0.9548, 0.6084]), pred_classes: tensor([0, 0]), pred_masks: tensor([[[False, False, False,  ..., False, False, False],\n",
              "         [False, False, False,  ..., False, False, False],\n",
              "         [False, False, False,  ..., False, False, False],\n",
              "         ...,\n",
              "         [False, False, False,  ..., False, False, False],\n",
              "         [False, False, False,  ..., False, False, False],\n",
              "         [False, False, False,  ..., False, False, False]],\n",
              "\n",
              "        [[False, False, False,  ..., False, False, False],\n",
              "         [False, False, False,  ..., False, False, False],\n",
              "         [False, False, False,  ..., False, False, False],\n",
              "         ...,\n",
              "         [False, False, False,  ..., False, False, False],\n",
              "         [False, False, False,  ..., False, False, False],\n",
              "         [False, False, False,  ..., False, False, False]]])])"
            ]
          },
          "execution_count": 52,
          "metadata": {},
          "output_type": "execute_result"
        }
      ],
      "source": [
        "instances"
      ]
    },
    {
      "cell_type": "code",
      "execution_count": 53,
      "metadata": {
        "id": "jnc6-kd3mdD6"
      },
      "outputs": [],
      "source": [
        "import numpy as np\n",
        "from detectron2.data import MetadataCatalog\n",
        "\n",
        "# Verify the class ID for 'person'\n",
        "person_class_id = MetadataCatalog.get(cfg.DATASETS.TRAIN[0]).thing_classes.index('person')\n",
        "\n",
        "# Extract masks for 'person'\n",
        "face_masks = [masks[i] for i in range(len(masks)) if classes[i] == person_class_id]\n",
        "\n",
        "# Combine the masks if multiple instances are found\n",
        "combined_mask = np.sum(face_masks, axis=0)"
      ]
    },
    {
      "cell_type": "code",
      "execution_count": 54,
      "metadata": {
        "id": "x9rDYM8VnKiI"
      },
      "outputs": [],
      "source": [
        "output_image = np.zeros_like(image)\n",
        "output_image[combined_mask > 0] = image[combined_mask > 0]\n",
        "\n",
        "# Optionally, add transparency where the mask is not present\n",
        "output_image = cv2.cvtColor(output_image, cv2.COLOR_BGR2BGRA)\n",
        "output_image[combined_mask == 0, 3] = 0  # Set alpha channel to 0 for non-mask regions"
      ]
    },
    {
      "cell_type": "code",
      "execution_count": 55,
      "metadata": {
        "colab": {
          "base_uri": "https://localhost:8080/"
        },
        "id": "QrkOjz1znMpJ",
        "outputId": "5004d21a-674e-4dea-86f0-b0558fa9a8d2"
      },
      "outputs": [
        {
          "data": {
            "text/plain": [
              "True"
            ]
          },
          "execution_count": 55,
          "metadata": {},
          "output_type": "execute_result"
        }
      ],
      "source": [
        "output_path = 'C:\\\\Users\\\\DELL\\\\OneDrive\\\\Desktop\\\\MachineLearning\\\\face-extraction\\\\images\\\\output\\\\extracted_face.png'\n",
        "cv2.imwrite(output_path, output_image)"
      ]
    },
    {
      "cell_type": "code",
      "execution_count": 56,
      "metadata": {},
      "outputs": [],
      "source": [
        "from rembg import remove \n",
        "from PIL import Image \n",
        "  \n",
        "# Store path of the image in the variable input_path \n",
        "input_path =  'C:\\\\Users\\\\DELL\\\\OneDrive\\\\Desktop\\\\MachineLearning\\\\face-extraction\\\\images\\\\output\\\\extracted_face.png' \n",
        "  \n",
        "# Store path of the output image in the variable output_path \n",
        "output_path = 'C:\\\\Users\\\\DELL\\\\OneDrive\\\\Desktop\\\\MachineLearning\\\\face-extraction\\\\images\\\\output\\\\transparent_face_trial.png' \n",
        "  \n",
        "# Processing the image \n",
        "input = Image.open(input_path) \n",
        "  \n",
        "# Removing the background from the given Image \n",
        "output = remove(input) \n",
        "  \n",
        "#Saving the image in the given path \n",
        "output.save(output_path) "
      ]
    },
    {
      "cell_type": "code",
      "execution_count": 57,
      "metadata": {
        "id": "NgYiAOC6Yvly"
      },
      "outputs": [],
      "source": [
        "# import cv2\n",
        "# import numpy as np\n",
        "# import torch\n",
        "# from detectron2 import model_zoo\n",
        "# from detectron2.engine import DefaultPredictor\n",
        "# from detectron2.config import get_cfg\n",
        "# from detectron2.data import MetadataCatalog\n",
        "\n",
        "# # Load the generated image\n",
        "# image_path = 'image001.png'\n",
        "# image = cv2.imread(image_path)\n",
        "\n",
        "# # Configure the model\n",
        "# cfg = get_cfg()\n",
        "# cfg.merge_from_file(model_zoo.get_config_file(\"COCO-InstanceSegmentation/mask_rcnn_R_50_FPN_3x.yaml\"))\n",
        "# cfg.MODEL.ROI_HEADS.SCORE_THRESH_TEST = 0.5  # Set threshold for this model\n",
        "# cfg.MODEL.WEIGHTS = model_zoo.get_checkpoint_url(\"COCO-InstanceSegmentation/mask_rcnn_R_50_FPN_3x.yaml\")\n",
        "# cfg.MODEL.DEVICE = 'cuda' if torch.cuda.is_available() else 'cpu'  # Use GPU if available\n",
        "\n",
        "# # Create predictor\n",
        "# predictor = DefaultPredictor(cfg)\n",
        "\n",
        "# # Make prediction\n",
        "# outputs = predictor(image)\n",
        "\n",
        "# # Extract instances and masks\n",
        "# instances = outputs[\"instances\"]\n",
        "# masks = instances.pred_masks.to(\"cpu\").numpy()\n",
        "\n",
        "# # Extract face masks (assuming COCO class ID for 'person' is 0)\n",
        "# face_masks = [masks[i] for i in range(len(masks)) if instances.pred_classes[i] == 0]\n",
        "\n",
        "# # Apply the masks to the image and save the result\n",
        "# for i, mask in enumerate(face_masks):\n",
        "#     # Create an output image with a transparent background\n",
        "#     output_image = np.zeros_like(image, dtype=np.uint8)\n",
        "#     output_image[mask] = image[mask]\n",
        "\n",
        "#     # Save the masked face region\n",
        "#     cv2.imwrite(f'face_extraction.png', output_image)\n",
        "\n",
        "# print(\"Faces extracted and saved successfully.\")"
      ]
    },
    {
      "cell_type": "code",
      "execution_count": null,
      "metadata": {},
      "outputs": [],
      "source": []
    }
  ],
  "metadata": {
    "accelerator": "GPU",
    "colab": {
      "gpuType": "T4",
      "provenance": []
    },
    "kernelspec": {
      "display_name": "Python 3",
      "name": "python3"
    },
    "language_info": {
      "codemirror_mode": {
        "name": "ipython",
        "version": 3
      },
      "file_extension": ".py",
      "mimetype": "text/x-python",
      "name": "python",
      "nbconvert_exporter": "python",
      "pygments_lexer": "ipython3",
      "version": "3.9.19"
    }
  },
  "nbformat": 4,
  "nbformat_minor": 0
}
